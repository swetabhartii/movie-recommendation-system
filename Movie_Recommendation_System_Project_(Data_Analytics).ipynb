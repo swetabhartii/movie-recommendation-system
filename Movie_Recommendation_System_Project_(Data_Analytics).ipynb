{
  "nbformat": 4,
  "nbformat_minor": 0,
  "metadata": {
    "colab": {
      "provenance": [],
      "authorship_tag": "ABX9TyP6+S82QZ26N0JneZhWl77Q",
      "include_colab_link": true
    },
    "kernelspec": {
      "name": "python3",
      "display_name": "Python 3"
    },
    "language_info": {
      "name": "python"
    }
  },
  "cells": [
    {
      "cell_type": "markdown",
      "metadata": {
        "id": "view-in-github",
        "colab_type": "text"
      },
      "source": [
        "<a href=\"https://colab.research.google.com/github/swetabhartii/movie-recommendation-system/blob/main/Movie_Recommendation_System_Project_(Data_Analytics).ipynb\" target=\"_parent\"><img src=\"https://colab.research.google.com/assets/colab-badge.svg\" alt=\"Open In Colab\"/></a>"
      ]
    },
    {
      "cell_type": "markdown",
      "source": [
        "***Movie Recommendation System***"
      ],
      "metadata": {
        "id": "dwkJ2_NomstQ"
      }
    },
    {
      "cell_type": "markdown",
      "source": [
        "**Import Library**"
      ],
      "metadata": {
        "id": "dyEUTipNx7eK"
      }
    },
    {
      "cell_type": "code",
      "execution_count": null,
      "metadata": {
        "id": "61Q8ioAjxZ6w"
      },
      "outputs": [],
      "source": [
        "import pandas as pd"
      ]
    },
    {
      "cell_type": "code",
      "source": [
        "import numpy as np"
      ],
      "metadata": {
        "id": "SacdZgfPx24q"
      },
      "execution_count": null,
      "outputs": []
    },
    {
      "cell_type": "markdown",
      "source": [
        "**Import Dataset**"
      ],
      "metadata": {
        "id": "XqAQCL6IyTel"
      }
    },
    {
      "cell_type": "code",
      "source": [
        "df = pd.read_csv(r\"https://raw.githubusercontent.com/YBI-Foundation/Dataset/main/Movies%20Recommendation.csv\")"
      ],
      "metadata": {
        "id": "zoqJ2fZ1yYxp"
      },
      "execution_count": null,
      "outputs": []
    },
    {
      "cell_type": "code",
      "source": [
        "df.head()"
      ],
      "metadata": {
        "id": "__7zwm2VzJiY"
      },
      "execution_count": null,
      "outputs": []
    },
    {
      "cell_type": "code",
      "source": [
        "df.info()"
      ],
      "metadata": {
        "id": "IwQGW5y-zrQW"
      },
      "execution_count": null,
      "outputs": []
    },
    {
      "cell_type": "code",
      "source": [
        "df.shape"
      ],
      "metadata": {
        "id": "dnKQ5YYk0IfO"
      },
      "execution_count": null,
      "outputs": []
    },
    {
      "cell_type": "code",
      "source": [
        "df.columns"
      ],
      "metadata": {
        "id": "1uOzjTz20K3N"
      },
      "execution_count": null,
      "outputs": []
    },
    {
      "cell_type": "markdown",
      "source": [
        "**Get Feature Selection**"
      ],
      "metadata": {
        "id": "Ocq25GaD0Nwg"
      }
    },
    {
      "cell_type": "code",
      "source": [
        "df_features = df[[\"Movie_Genre\",\"Movie_Keywords\",\"Movie_Tagline\",\"Movie_Cast\",\"Movie_Director\"]].fillna(\"\")"
      ],
      "metadata": {
        "id": "s5hNcyNj0UvC"
      },
      "execution_count": 10,
      "outputs": []
    },
    {
      "cell_type": "code",
      "source": [
        "df_features.shape"
      ],
      "metadata": {
        "id": "17PU9pwf0YN0"
      },
      "execution_count": null,
      "outputs": []
    },
    {
      "cell_type": "code",
      "source": [
        "df_features"
      ],
      "metadata": {
        "id": "ChWyvnpS16sX"
      },
      "execution_count": null,
      "outputs": []
    },
    {
      "cell_type": "code",
      "source": [
        "X = df_features[\"Movie_Genre\"] + \" \" + df_features[\"Movie_Keywords\"] + \" \" + df_features[\"Movie_Tagline\"] + \" \" + df_features[\"Movie_Cast\"] + \" \" + df_features[\"Movie_Director\"]"
      ],
      "metadata": {
        "id": "m0n4tuoO2LvQ"
      },
      "execution_count": 13,
      "outputs": []
    },
    {
      "cell_type": "code",
      "source": [
        "X"
      ],
      "metadata": {
        "id": "KXLC1XBu3sWn"
      },
      "execution_count": null,
      "outputs": []
    },
    {
      "cell_type": "code",
      "source": [
        "X.shape"
      ],
      "metadata": {
        "id": "tiIadiya3oZN"
      },
      "execution_count": null,
      "outputs": []
    },
    {
      "cell_type": "markdown",
      "source": [
        "**Get Feature Text Conversion to Tokens**"
      ],
      "metadata": {
        "id": "eu--j2DQ3wwz"
      }
    },
    {
      "cell_type": "code",
      "source": [
        "from sklearn.feature_extraction.text import TfidfVectorizer"
      ],
      "metadata": {
        "id": "-zCAL9q436Cw"
      },
      "execution_count": 16,
      "outputs": []
    },
    {
      "cell_type": "code",
      "source": [
        "tfidf = TfidfVectorizer()"
      ],
      "metadata": {
        "id": "S9X2a8vq4P35"
      },
      "execution_count": 17,
      "outputs": []
    },
    {
      "cell_type": "code",
      "source": [
        "X = tfidf.fit_transform(X)"
      ],
      "metadata": {
        "id": "dsKp0VWM4YI8"
      },
      "execution_count": 18,
      "outputs": []
    },
    {
      "cell_type": "code",
      "source": [
        "X.shape"
      ],
      "metadata": {
        "id": "xbg3tB5v4sQ3"
      },
      "execution_count": null,
      "outputs": []
    },
    {
      "cell_type": "code",
      "source": [
        "print(X)"
      ],
      "metadata": {
        "id": "VrTrgr7j4vXs"
      },
      "execution_count": null,
      "outputs": []
    },
    {
      "cell_type": "markdown",
      "source": [
        "**Get Similarity Score using Cosine Similarity**"
      ],
      "metadata": {
        "id": "IEUkAaxJ5Qpk"
      }
    },
    {
      "cell_type": "code",
      "source": [
        "from sklearn.metrics.pairwise import cosine_similarity"
      ],
      "metadata": {
        "id": "LcCBjjQm5QOu"
      },
      "execution_count": 21,
      "outputs": []
    },
    {
      "cell_type": "code",
      "source": [
        "Similarity_Score = cosine_similarity(X)"
      ],
      "metadata": {
        "id": "fEFO-X9j5f16"
      },
      "execution_count": 22,
      "outputs": []
    },
    {
      "cell_type": "code",
      "source": [
        "Similarity_Score"
      ],
      "metadata": {
        "id": "YPSLMVjr6KrZ"
      },
      "execution_count": null,
      "outputs": []
    },
    {
      "cell_type": "code",
      "source": [
        "Similarity_Score.shape"
      ],
      "metadata": {
        "id": "9e-xDUex6QEi"
      },
      "execution_count": null,
      "outputs": []
    },
    {
      "cell_type": "markdown",
      "source": [
        "**Get Movie Name as Input from User and Validate for Closest Spelling**"
      ],
      "metadata": {
        "id": "JKcWMWno6SkI"
      }
    },
    {
      "cell_type": "code",
      "source": [
        "Favourite_Movie_Name = input(\" Enter Your Favourite Movie Name : \")"
      ],
      "metadata": {
        "id": "bwr09Vwg6ivC"
      },
      "execution_count": null,
      "outputs": []
    },
    {
      "cell_type": "code",
      "source": [
        "All_Movies_Title_List = df[\"Movie_Title\"].tolist()"
      ],
      "metadata": {
        "id": "VoLGwKIj637O"
      },
      "execution_count": 26,
      "outputs": []
    },
    {
      "cell_type": "code",
      "source": [
        "import difflib"
      ],
      "metadata": {
        "id": "-cBbAmzp7REn"
      },
      "execution_count": 27,
      "outputs": []
    },
    {
      "cell_type": "code",
      "source": [
        "Movie_Recommendation = difflib.get_close_matches(Favourite_Movie_Name, All_Movies_Title_List)\n",
        "print(Movie_Recommendation)"
      ],
      "metadata": {
        "id": "G_d2jCdu7VRl"
      },
      "execution_count": null,
      "outputs": []
    },
    {
      "cell_type": "code",
      "source": [
        "Close_Match = Movie_Recommendation[0]\n",
        "print(Close_Match)"
      ],
      "metadata": {
        "id": "sS3s3WV-73Tn"
      },
      "execution_count": null,
      "outputs": []
    },
    {
      "cell_type": "code",
      "source": [
        "Index_of_Close_Match_Movie = df[df.Movie_Title == Close_Match][\"Movie_ID\"].values[0]\n",
        "print(Index_of_Close_Match_Movie)"
      ],
      "metadata": {
        "id": "F6MWtk838K7R"
      },
      "execution_count": null,
      "outputs": []
    },
    {
      "cell_type": "code",
      "source": [
        "# getting a list of similar movies\n",
        "\n",
        "Recommendation_score = list(enumerate(Similarity_Score[Index_of_Close_Match_Movie]))\n",
        "print(Index_of_Close_Match_Movie)"
      ],
      "metadata": {
        "id": "qNn8UDPxonag"
      },
      "execution_count": null,
      "outputs": []
    },
    {
      "cell_type": "code",
      "source": [
        "len(Recommendation_score)"
      ],
      "metadata": {
        "id": "70H-hsK9okzP"
      },
      "execution_count": null,
      "outputs": []
    },
    {
      "cell_type": "markdown",
      "source": [
        "**Get All Movies Sort Based On Recommendation Score wrt Favourite Movie**"
      ],
      "metadata": {
        "id": "y3dGD25Z-BDY"
      }
    },
    {
      "cell_type": "code",
      "source": [
        "# Sorting the Movies based on their similarity score\n",
        "\n",
        "Sorted_Similar_Movies = sorted(Recommendation_score, key = lambda X:X[1], reverse = True)\n",
        "print(Sorted_Similar_Movies)"
      ],
      "metadata": {
        "id": "yGg0ezOi-SGX"
      },
      "execution_count": null,
      "outputs": []
    },
    {
      "cell_type": "code",
      "source": [
        "# Print the name of similar movies based on the index\n",
        "\n",
        "print(\"Top 30 movies suggested for you : \\n\")\n",
        "\n",
        "i = 1\n",
        "\n",
        "for movie in Sorted_Similar_Movies:\n",
        "  index = movie[0]\n",
        "  title_from_index = df[df.index==index][\"Movie_Title\"].values[0]\n",
        "  if (i<31):\n",
        "    print(i, \",\",title_from_index)\n",
        "    i+=1"
      ],
      "metadata": {
        "id": "nNBs05DF_TUs"
      },
      "execution_count": null,
      "outputs": []
    },
    {
      "cell_type": "markdown",
      "source": [
        "**Top 10 Movie Recommendation System**"
      ],
      "metadata": {
        "id": "yHJbsFE6Ai_W"
      }
    },
    {
      "cell_type": "code",
      "source": [
        "Movie_Name = input(\" Enter your favourite movie name : \")\n",
        "list_of_all_titles = df[\"Movie_Title\"].tolist()\n",
        "Find_Close_Match = difflib.get_close_matches(Movie_Name, list_of_all_titles)\n",
        "Close_Match = Find_Close_Match[0]\n",
        "Index_of_Movie = df[df.Movie_Title == Close_Match][\"Movie_ID\"].values[0]\n",
        "Recommendation_Score = list(enumerate(Similarity_Score[Index_of_Movie]))\n",
        "sorted_similar_movies = sorted(Recommendation_Score, key = lambda X:X[1], reverse = True)\n",
        "\n",
        "print(\"Top 10 Movies suggested for you : /n\")\n",
        "\n",
        "i = 1\n",
        "\n",
        "for movie in Sorted_Similar_Movies:\n",
        "  index = movie[0]\n",
        "  title_from_index = df[df.Movie_ID==index][\"Movie_Title\"].values\n",
        "  if (i<11):\n",
        "    print(i, \",\",title_from_index)\n",
        "    i+=1"
      ],
      "metadata": {
        "colab": {
          "base_uri": "https://localhost:8080/"
        },
        "id": "dfiscvpqAipz",
        "outputId": "9524047c-d09f-436b-efaf-947655c41ee4"
      },
      "execution_count": 39,
      "outputs": [
        {
          "output_type": "stream",
          "name": "stdout",
          "text": [
            " Enter your favourite movie name : avtar\n",
            "Top 10 Movies suggested for you : /n\n",
            "1 , ['Avatar']\n",
            "2 , ['The Girl on the Train']\n",
            "3 , ['Act of Valor']\n",
            "4 , ['Donnie Darko']\n",
            "5 , ['Precious']\n",
            "6 , ['Freaky Friday']\n",
            "7 , ['The Opposite Sex']\n",
            "8 , ['Heaven is for Real']\n",
            "9 , ['Run Lola Run']\n",
            "10 , ['Elizabethtown']\n"
          ]
        }
      ]
    }
  ]
}